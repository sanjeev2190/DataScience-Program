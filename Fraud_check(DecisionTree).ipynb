{
 "cells": [
  {
   "cell_type": "code",
   "execution_count": 1,
   "id": "3a4b1045",
   "metadata": {
    "ExecuteTime": {
     "end_time": "2022-10-02T12:49:59.642156Z",
     "start_time": "2022-10-02T12:49:38.777578Z"
    }
   },
   "outputs": [],
   "source": [
    "import pandas as pd \n",
    "import numpy as np\n",
    "import matplotlib.pyplot as plt \n",
    "import seaborn as sns\n",
    "\n",
    "from sklearn import preprocessing\n",
    "from sklearn.model_selection import train_test_split\n",
    "from sklearn import tree\n",
    "from sklearn.tree import DecisionTreeClassifier\n",
    "from sklearn.tree import DecisionTreeRegressor"
   ]
  },
  {
   "cell_type": "code",
   "execution_count": 2,
   "id": "5d101253",
   "metadata": {
    "ExecuteTime": {
     "end_time": "2022-10-02T12:49:59.782719Z",
     "start_time": "2022-10-02T12:49:59.642156Z"
    }
   },
   "outputs": [
    {
     "data": {
      "text/html": [
       "<div>\n",
       "<style scoped>\n",
       "    .dataframe tbody tr th:only-of-type {\n",
       "        vertical-align: middle;\n",
       "    }\n",
       "\n",
       "    .dataframe tbody tr th {\n",
       "        vertical-align: top;\n",
       "    }\n",
       "\n",
       "    .dataframe thead th {\n",
       "        text-align: right;\n",
       "    }\n",
       "</style>\n",
       "<table border=\"1\" class=\"dataframe\">\n",
       "  <thead>\n",
       "    <tr style=\"text-align: right;\">\n",
       "      <th></th>\n",
       "      <th>Undergrad</th>\n",
       "      <th>Marital.Status</th>\n",
       "      <th>Taxable.Income</th>\n",
       "      <th>City.Population</th>\n",
       "      <th>Work.Experience</th>\n",
       "      <th>Urban</th>\n",
       "    </tr>\n",
       "  </thead>\n",
       "  <tbody>\n",
       "    <tr>\n",
       "      <th>0</th>\n",
       "      <td>NO</td>\n",
       "      <td>Single</td>\n",
       "      <td>68833</td>\n",
       "      <td>50047</td>\n",
       "      <td>10</td>\n",
       "      <td>YES</td>\n",
       "    </tr>\n",
       "    <tr>\n",
       "      <th>1</th>\n",
       "      <td>YES</td>\n",
       "      <td>Divorced</td>\n",
       "      <td>33700</td>\n",
       "      <td>134075</td>\n",
       "      <td>18</td>\n",
       "      <td>YES</td>\n",
       "    </tr>\n",
       "    <tr>\n",
       "      <th>2</th>\n",
       "      <td>NO</td>\n",
       "      <td>Married</td>\n",
       "      <td>36925</td>\n",
       "      <td>160205</td>\n",
       "      <td>30</td>\n",
       "      <td>YES</td>\n",
       "    </tr>\n",
       "    <tr>\n",
       "      <th>3</th>\n",
       "      <td>YES</td>\n",
       "      <td>Single</td>\n",
       "      <td>50190</td>\n",
       "      <td>193264</td>\n",
       "      <td>15</td>\n",
       "      <td>YES</td>\n",
       "    </tr>\n",
       "    <tr>\n",
       "      <th>4</th>\n",
       "      <td>NO</td>\n",
       "      <td>Married</td>\n",
       "      <td>81002</td>\n",
       "      <td>27533</td>\n",
       "      <td>28</td>\n",
       "      <td>NO</td>\n",
       "    </tr>\n",
       "    <tr>\n",
       "      <th>...</th>\n",
       "      <td>...</td>\n",
       "      <td>...</td>\n",
       "      <td>...</td>\n",
       "      <td>...</td>\n",
       "      <td>...</td>\n",
       "      <td>...</td>\n",
       "    </tr>\n",
       "    <tr>\n",
       "      <th>595</th>\n",
       "      <td>YES</td>\n",
       "      <td>Divorced</td>\n",
       "      <td>76340</td>\n",
       "      <td>39492</td>\n",
       "      <td>7</td>\n",
       "      <td>YES</td>\n",
       "    </tr>\n",
       "    <tr>\n",
       "      <th>596</th>\n",
       "      <td>YES</td>\n",
       "      <td>Divorced</td>\n",
       "      <td>69967</td>\n",
       "      <td>55369</td>\n",
       "      <td>2</td>\n",
       "      <td>YES</td>\n",
       "    </tr>\n",
       "    <tr>\n",
       "      <th>597</th>\n",
       "      <td>NO</td>\n",
       "      <td>Divorced</td>\n",
       "      <td>47334</td>\n",
       "      <td>154058</td>\n",
       "      <td>0</td>\n",
       "      <td>YES</td>\n",
       "    </tr>\n",
       "    <tr>\n",
       "      <th>598</th>\n",
       "      <td>YES</td>\n",
       "      <td>Married</td>\n",
       "      <td>98592</td>\n",
       "      <td>180083</td>\n",
       "      <td>17</td>\n",
       "      <td>NO</td>\n",
       "    </tr>\n",
       "    <tr>\n",
       "      <th>599</th>\n",
       "      <td>NO</td>\n",
       "      <td>Divorced</td>\n",
       "      <td>96519</td>\n",
       "      <td>158137</td>\n",
       "      <td>16</td>\n",
       "      <td>NO</td>\n",
       "    </tr>\n",
       "  </tbody>\n",
       "</table>\n",
       "<p>600 rows × 6 columns</p>\n",
       "</div>"
      ],
      "text/plain": [
       "    Undergrad Marital.Status  Taxable.Income  City.Population  \\\n",
       "0          NO         Single           68833            50047   \n",
       "1         YES       Divorced           33700           134075   \n",
       "2          NO        Married           36925           160205   \n",
       "3         YES         Single           50190           193264   \n",
       "4          NO        Married           81002            27533   \n",
       "..        ...            ...             ...              ...   \n",
       "595       YES       Divorced           76340            39492   \n",
       "596       YES       Divorced           69967            55369   \n",
       "597        NO       Divorced           47334           154058   \n",
       "598       YES        Married           98592           180083   \n",
       "599        NO       Divorced           96519           158137   \n",
       "\n",
       "     Work.Experience Urban  \n",
       "0                 10   YES  \n",
       "1                 18   YES  \n",
       "2                 30   YES  \n",
       "3                 15   YES  \n",
       "4                 28    NO  \n",
       "..               ...   ...  \n",
       "595                7   YES  \n",
       "596                2   YES  \n",
       "597                0   YES  \n",
       "598               17    NO  \n",
       "599               16    NO  \n",
       "\n",
       "[600 rows x 6 columns]"
      ]
     },
     "execution_count": 2,
     "metadata": {},
     "output_type": "execute_result"
    }
   ],
   "source": [
    "#import Some data to play with\n",
    "fraud_check=pd.read_csv(\"Fraud_check.csv\")\n",
    "fraud_check"
   ]
  },
  {
   "cell_type": "code",
   "execution_count": 3,
   "id": "1d9b49e3",
   "metadata": {
    "ExecuteTime": {
     "end_time": "2022-10-02T12:50:00.053967Z",
     "start_time": "2022-10-02T12:49:59.786718Z"
    }
   },
   "outputs": [],
   "source": [
    "#create a cloumne Income to basis of taxable.income is >=30000 and <=30000.\n",
    "fraud_check.loc[fraud_check['Taxable.Income']>=30000,\"income\"]=\"Good\"\n",
    "fraud_check.loc[fraud_check['Taxable.Income']<=30000,\"income\"]=\"Risky\""
   ]
  },
  {
   "cell_type": "code",
   "execution_count": 4,
   "id": "c3337bca",
   "metadata": {
    "ExecuteTime": {
     "end_time": "2022-10-02T12:50:00.269830Z",
     "start_time": "2022-10-02T12:50:00.059964Z"
    }
   },
   "outputs": [
    {
     "data": {
      "text/html": [
       "<div>\n",
       "<style scoped>\n",
       "    .dataframe tbody tr th:only-of-type {\n",
       "        vertical-align: middle;\n",
       "    }\n",
       "\n",
       "    .dataframe tbody tr th {\n",
       "        vertical-align: top;\n",
       "    }\n",
       "\n",
       "    .dataframe thead th {\n",
       "        text-align: right;\n",
       "    }\n",
       "</style>\n",
       "<table border=\"1\" class=\"dataframe\">\n",
       "  <thead>\n",
       "    <tr style=\"text-align: right;\">\n",
       "      <th></th>\n",
       "      <th>Undergrad</th>\n",
       "      <th>Marital.Status</th>\n",
       "      <th>Taxable.Income</th>\n",
       "      <th>City.Population</th>\n",
       "      <th>Work.Experience</th>\n",
       "      <th>Urban</th>\n",
       "      <th>income</th>\n",
       "    </tr>\n",
       "  </thead>\n",
       "  <tbody>\n",
       "    <tr>\n",
       "      <th>0</th>\n",
       "      <td>NO</td>\n",
       "      <td>Single</td>\n",
       "      <td>68833</td>\n",
       "      <td>50047</td>\n",
       "      <td>10</td>\n",
       "      <td>YES</td>\n",
       "      <td>Good</td>\n",
       "    </tr>\n",
       "    <tr>\n",
       "      <th>1</th>\n",
       "      <td>YES</td>\n",
       "      <td>Divorced</td>\n",
       "      <td>33700</td>\n",
       "      <td>134075</td>\n",
       "      <td>18</td>\n",
       "      <td>YES</td>\n",
       "      <td>Good</td>\n",
       "    </tr>\n",
       "    <tr>\n",
       "      <th>2</th>\n",
       "      <td>NO</td>\n",
       "      <td>Married</td>\n",
       "      <td>36925</td>\n",
       "      <td>160205</td>\n",
       "      <td>30</td>\n",
       "      <td>YES</td>\n",
       "      <td>Good</td>\n",
       "    </tr>\n",
       "    <tr>\n",
       "      <th>3</th>\n",
       "      <td>YES</td>\n",
       "      <td>Single</td>\n",
       "      <td>50190</td>\n",
       "      <td>193264</td>\n",
       "      <td>15</td>\n",
       "      <td>YES</td>\n",
       "      <td>Good</td>\n",
       "    </tr>\n",
       "    <tr>\n",
       "      <th>4</th>\n",
       "      <td>NO</td>\n",
       "      <td>Married</td>\n",
       "      <td>81002</td>\n",
       "      <td>27533</td>\n",
       "      <td>28</td>\n",
       "      <td>NO</td>\n",
       "      <td>Good</td>\n",
       "    </tr>\n",
       "    <tr>\n",
       "      <th>...</th>\n",
       "      <td>...</td>\n",
       "      <td>...</td>\n",
       "      <td>...</td>\n",
       "      <td>...</td>\n",
       "      <td>...</td>\n",
       "      <td>...</td>\n",
       "      <td>...</td>\n",
       "    </tr>\n",
       "    <tr>\n",
       "      <th>595</th>\n",
       "      <td>YES</td>\n",
       "      <td>Divorced</td>\n",
       "      <td>76340</td>\n",
       "      <td>39492</td>\n",
       "      <td>7</td>\n",
       "      <td>YES</td>\n",
       "      <td>Good</td>\n",
       "    </tr>\n",
       "    <tr>\n",
       "      <th>596</th>\n",
       "      <td>YES</td>\n",
       "      <td>Divorced</td>\n",
       "      <td>69967</td>\n",
       "      <td>55369</td>\n",
       "      <td>2</td>\n",
       "      <td>YES</td>\n",
       "      <td>Good</td>\n",
       "    </tr>\n",
       "    <tr>\n",
       "      <th>597</th>\n",
       "      <td>NO</td>\n",
       "      <td>Divorced</td>\n",
       "      <td>47334</td>\n",
       "      <td>154058</td>\n",
       "      <td>0</td>\n",
       "      <td>YES</td>\n",
       "      <td>Good</td>\n",
       "    </tr>\n",
       "    <tr>\n",
       "      <th>598</th>\n",
       "      <td>YES</td>\n",
       "      <td>Married</td>\n",
       "      <td>98592</td>\n",
       "      <td>180083</td>\n",
       "      <td>17</td>\n",
       "      <td>NO</td>\n",
       "      <td>Good</td>\n",
       "    </tr>\n",
       "    <tr>\n",
       "      <th>599</th>\n",
       "      <td>NO</td>\n",
       "      <td>Divorced</td>\n",
       "      <td>96519</td>\n",
       "      <td>158137</td>\n",
       "      <td>16</td>\n",
       "      <td>NO</td>\n",
       "      <td>Good</td>\n",
       "    </tr>\n",
       "  </tbody>\n",
       "</table>\n",
       "<p>600 rows × 7 columns</p>\n",
       "</div>"
      ],
      "text/plain": [
       "    Undergrad Marital.Status  Taxable.Income  City.Population  \\\n",
       "0          NO         Single           68833            50047   \n",
       "1         YES       Divorced           33700           134075   \n",
       "2          NO        Married           36925           160205   \n",
       "3         YES         Single           50190           193264   \n",
       "4          NO        Married           81002            27533   \n",
       "..        ...            ...             ...              ...   \n",
       "595       YES       Divorced           76340            39492   \n",
       "596       YES       Divorced           69967            55369   \n",
       "597        NO       Divorced           47334           154058   \n",
       "598       YES        Married           98592           180083   \n",
       "599        NO       Divorced           96519           158137   \n",
       "\n",
       "     Work.Experience Urban income  \n",
       "0                 10   YES   Good  \n",
       "1                 18   YES   Good  \n",
       "2                 30   YES   Good  \n",
       "3                 15   YES   Good  \n",
       "4                 28    NO   Good  \n",
       "..               ...   ...    ...  \n",
       "595                7   YES   Good  \n",
       "596                2   YES   Good  \n",
       "597                0   YES   Good  \n",
       "598               17    NO   Good  \n",
       "599               16    NO   Good  \n",
       "\n",
       "[600 rows x 7 columns]"
      ]
     },
     "execution_count": 4,
     "metadata": {},
     "output_type": "execute_result"
    }
   ],
   "source": [
    "fraud_check"
   ]
  },
  {
   "cell_type": "code",
   "execution_count": 5,
   "id": "acb3b69a",
   "metadata": {
    "ExecuteTime": {
     "end_time": "2022-10-02T12:50:00.394852Z",
     "start_time": "2022-10-02T12:50:00.278823Z"
    }
   },
   "outputs": [
    {
     "data": {
      "text/html": [
       "<div>\n",
       "<style scoped>\n",
       "    .dataframe tbody tr th:only-of-type {\n",
       "        vertical-align: middle;\n",
       "    }\n",
       "\n",
       "    .dataframe tbody tr th {\n",
       "        vertical-align: top;\n",
       "    }\n",
       "\n",
       "    .dataframe thead th {\n",
       "        text-align: right;\n",
       "    }\n",
       "</style>\n",
       "<table border=\"1\" class=\"dataframe\">\n",
       "  <thead>\n",
       "    <tr style=\"text-align: right;\">\n",
       "      <th></th>\n",
       "      <th>Undergrad</th>\n",
       "      <th>Marital.Status</th>\n",
       "      <th>Taxable.Income</th>\n",
       "      <th>City.Population</th>\n",
       "      <th>Work.Experience</th>\n",
       "      <th>Urban</th>\n",
       "      <th>income</th>\n",
       "    </tr>\n",
       "  </thead>\n",
       "  <tbody>\n",
       "    <tr>\n",
       "      <th>0</th>\n",
       "      <td>NO</td>\n",
       "      <td>Single</td>\n",
       "      <td>68833</td>\n",
       "      <td>50047</td>\n",
       "      <td>10</td>\n",
       "      <td>YES</td>\n",
       "      <td>Good</td>\n",
       "    </tr>\n",
       "    <tr>\n",
       "      <th>1</th>\n",
       "      <td>YES</td>\n",
       "      <td>Divorced</td>\n",
       "      <td>33700</td>\n",
       "      <td>134075</td>\n",
       "      <td>18</td>\n",
       "      <td>YES</td>\n",
       "      <td>Good</td>\n",
       "    </tr>\n",
       "    <tr>\n",
       "      <th>2</th>\n",
       "      <td>NO</td>\n",
       "      <td>Married</td>\n",
       "      <td>36925</td>\n",
       "      <td>160205</td>\n",
       "      <td>30</td>\n",
       "      <td>YES</td>\n",
       "      <td>Good</td>\n",
       "    </tr>\n",
       "    <tr>\n",
       "      <th>3</th>\n",
       "      <td>YES</td>\n",
       "      <td>Single</td>\n",
       "      <td>50190</td>\n",
       "      <td>193264</td>\n",
       "      <td>15</td>\n",
       "      <td>YES</td>\n",
       "      <td>Good</td>\n",
       "    </tr>\n",
       "    <tr>\n",
       "      <th>4</th>\n",
       "      <td>NO</td>\n",
       "      <td>Married</td>\n",
       "      <td>81002</td>\n",
       "      <td>27533</td>\n",
       "      <td>28</td>\n",
       "      <td>NO</td>\n",
       "      <td>Good</td>\n",
       "    </tr>\n",
       "    <tr>\n",
       "      <th>...</th>\n",
       "      <td>...</td>\n",
       "      <td>...</td>\n",
       "      <td>...</td>\n",
       "      <td>...</td>\n",
       "      <td>...</td>\n",
       "      <td>...</td>\n",
       "      <td>...</td>\n",
       "    </tr>\n",
       "    <tr>\n",
       "      <th>595</th>\n",
       "      <td>YES</td>\n",
       "      <td>Divorced</td>\n",
       "      <td>76340</td>\n",
       "      <td>39492</td>\n",
       "      <td>7</td>\n",
       "      <td>YES</td>\n",
       "      <td>Good</td>\n",
       "    </tr>\n",
       "    <tr>\n",
       "      <th>596</th>\n",
       "      <td>YES</td>\n",
       "      <td>Divorced</td>\n",
       "      <td>69967</td>\n",
       "      <td>55369</td>\n",
       "      <td>2</td>\n",
       "      <td>YES</td>\n",
       "      <td>Good</td>\n",
       "    </tr>\n",
       "    <tr>\n",
       "      <th>597</th>\n",
       "      <td>NO</td>\n",
       "      <td>Divorced</td>\n",
       "      <td>47334</td>\n",
       "      <td>154058</td>\n",
       "      <td>0</td>\n",
       "      <td>YES</td>\n",
       "      <td>Good</td>\n",
       "    </tr>\n",
       "    <tr>\n",
       "      <th>598</th>\n",
       "      <td>YES</td>\n",
       "      <td>Married</td>\n",
       "      <td>98592</td>\n",
       "      <td>180083</td>\n",
       "      <td>17</td>\n",
       "      <td>NO</td>\n",
       "      <td>Good</td>\n",
       "    </tr>\n",
       "    <tr>\n",
       "      <th>599</th>\n",
       "      <td>NO</td>\n",
       "      <td>Divorced</td>\n",
       "      <td>96519</td>\n",
       "      <td>158137</td>\n",
       "      <td>16</td>\n",
       "      <td>NO</td>\n",
       "      <td>Good</td>\n",
       "    </tr>\n",
       "  </tbody>\n",
       "</table>\n",
       "<p>600 rows × 7 columns</p>\n",
       "</div>"
      ],
      "text/plain": [
       "    Undergrad Marital.Status  Taxable.Income  City.Population  \\\n",
       "0          NO         Single           68833            50047   \n",
       "1         YES       Divorced           33700           134075   \n",
       "2          NO        Married           36925           160205   \n",
       "3         YES         Single           50190           193264   \n",
       "4          NO        Married           81002            27533   \n",
       "..        ...            ...             ...              ...   \n",
       "595       YES       Divorced           76340            39492   \n",
       "596       YES       Divorced           69967            55369   \n",
       "597        NO       Divorced           47334           154058   \n",
       "598       YES        Married           98592           180083   \n",
       "599        NO       Divorced           96519           158137   \n",
       "\n",
       "     Work.Experience Urban income  \n",
       "0                 10   YES   Good  \n",
       "1                 18   YES   Good  \n",
       "2                 30   YES   Good  \n",
       "3                 15   YES   Good  \n",
       "4                 28    NO   Good  \n",
       "..               ...   ...    ...  \n",
       "595                7   YES   Good  \n",
       "596                2   YES   Good  \n",
       "597                0   YES   Good  \n",
       "598               17    NO   Good  \n",
       "599               16    NO   Good  \n",
       "\n",
       "[600 rows x 7 columns]"
      ]
     },
     "execution_count": 5,
     "metadata": {},
     "output_type": "execute_result"
    }
   ],
   "source": [
    "fraud_check1=pd.DataFrame(fraud_check)\n",
    "fraud_check1"
   ]
  },
  {
   "cell_type": "code",
   "execution_count": 6,
   "id": "87440128",
   "metadata": {
    "ExecuteTime": {
     "end_time": "2022-10-02T12:50:00.520747Z",
     "start_time": "2022-10-02T12:50:00.397849Z"
    }
   },
   "outputs": [
    {
     "data": {
      "text/plain": [
       "0      68833\n",
       "1      33700\n",
       "2      36925\n",
       "3      50190\n",
       "4      81002\n",
       "       ...  \n",
       "595    76340\n",
       "596    69967\n",
       "597    47334\n",
       "598    98592\n",
       "599    96519\n",
       "Name: Taxable.Income, Length: 600, dtype: int64"
      ]
     },
     "execution_count": 6,
     "metadata": {},
     "output_type": "execute_result"
    }
   ],
   "source": [
    "first_column=fraud_check1.pop('Taxable.Income')\n",
    "first_column"
   ]
  },
  {
   "cell_type": "code",
   "execution_count": 7,
   "id": "bb0ff05c",
   "metadata": {
    "ExecuteTime": {
     "end_time": "2022-10-02T12:50:00.771416Z",
     "start_time": "2022-10-02T12:50:00.525744Z"
    }
   },
   "outputs": [],
   "source": [
    "fraud_check1.insert(0,'Taxable.Income',first_column)"
   ]
  },
  {
   "cell_type": "code",
   "execution_count": 8,
   "id": "29c39132",
   "metadata": {
    "ExecuteTime": {
     "end_time": "2022-10-02T12:50:00.927426Z",
     "start_time": "2022-10-02T12:50:00.775352Z"
    }
   },
   "outputs": [
    {
     "data": {
      "text/html": [
       "<div>\n",
       "<style scoped>\n",
       "    .dataframe tbody tr th:only-of-type {\n",
       "        vertical-align: middle;\n",
       "    }\n",
       "\n",
       "    .dataframe tbody tr th {\n",
       "        vertical-align: top;\n",
       "    }\n",
       "\n",
       "    .dataframe thead th {\n",
       "        text-align: right;\n",
       "    }\n",
       "</style>\n",
       "<table border=\"1\" class=\"dataframe\">\n",
       "  <thead>\n",
       "    <tr style=\"text-align: right;\">\n",
       "      <th></th>\n",
       "      <th>Taxable.Income</th>\n",
       "      <th>Undergrad</th>\n",
       "      <th>Marital.Status</th>\n",
       "      <th>City.Population</th>\n",
       "      <th>Work.Experience</th>\n",
       "      <th>Urban</th>\n",
       "      <th>income</th>\n",
       "    </tr>\n",
       "  </thead>\n",
       "  <tbody>\n",
       "    <tr>\n",
       "      <th>0</th>\n",
       "      <td>68833</td>\n",
       "      <td>NO</td>\n",
       "      <td>Single</td>\n",
       "      <td>50047</td>\n",
       "      <td>10</td>\n",
       "      <td>YES</td>\n",
       "      <td>Good</td>\n",
       "    </tr>\n",
       "    <tr>\n",
       "      <th>1</th>\n",
       "      <td>33700</td>\n",
       "      <td>YES</td>\n",
       "      <td>Divorced</td>\n",
       "      <td>134075</td>\n",
       "      <td>18</td>\n",
       "      <td>YES</td>\n",
       "      <td>Good</td>\n",
       "    </tr>\n",
       "    <tr>\n",
       "      <th>2</th>\n",
       "      <td>36925</td>\n",
       "      <td>NO</td>\n",
       "      <td>Married</td>\n",
       "      <td>160205</td>\n",
       "      <td>30</td>\n",
       "      <td>YES</td>\n",
       "      <td>Good</td>\n",
       "    </tr>\n",
       "    <tr>\n",
       "      <th>3</th>\n",
       "      <td>50190</td>\n",
       "      <td>YES</td>\n",
       "      <td>Single</td>\n",
       "      <td>193264</td>\n",
       "      <td>15</td>\n",
       "      <td>YES</td>\n",
       "      <td>Good</td>\n",
       "    </tr>\n",
       "    <tr>\n",
       "      <th>4</th>\n",
       "      <td>81002</td>\n",
       "      <td>NO</td>\n",
       "      <td>Married</td>\n",
       "      <td>27533</td>\n",
       "      <td>28</td>\n",
       "      <td>NO</td>\n",
       "      <td>Good</td>\n",
       "    </tr>\n",
       "    <tr>\n",
       "      <th>...</th>\n",
       "      <td>...</td>\n",
       "      <td>...</td>\n",
       "      <td>...</td>\n",
       "      <td>...</td>\n",
       "      <td>...</td>\n",
       "      <td>...</td>\n",
       "      <td>...</td>\n",
       "    </tr>\n",
       "    <tr>\n",
       "      <th>595</th>\n",
       "      <td>76340</td>\n",
       "      <td>YES</td>\n",
       "      <td>Divorced</td>\n",
       "      <td>39492</td>\n",
       "      <td>7</td>\n",
       "      <td>YES</td>\n",
       "      <td>Good</td>\n",
       "    </tr>\n",
       "    <tr>\n",
       "      <th>596</th>\n",
       "      <td>69967</td>\n",
       "      <td>YES</td>\n",
       "      <td>Divorced</td>\n",
       "      <td>55369</td>\n",
       "      <td>2</td>\n",
       "      <td>YES</td>\n",
       "      <td>Good</td>\n",
       "    </tr>\n",
       "    <tr>\n",
       "      <th>597</th>\n",
       "      <td>47334</td>\n",
       "      <td>NO</td>\n",
       "      <td>Divorced</td>\n",
       "      <td>154058</td>\n",
       "      <td>0</td>\n",
       "      <td>YES</td>\n",
       "      <td>Good</td>\n",
       "    </tr>\n",
       "    <tr>\n",
       "      <th>598</th>\n",
       "      <td>98592</td>\n",
       "      <td>YES</td>\n",
       "      <td>Married</td>\n",
       "      <td>180083</td>\n",
       "      <td>17</td>\n",
       "      <td>NO</td>\n",
       "      <td>Good</td>\n",
       "    </tr>\n",
       "    <tr>\n",
       "      <th>599</th>\n",
       "      <td>96519</td>\n",
       "      <td>NO</td>\n",
       "      <td>Divorced</td>\n",
       "      <td>158137</td>\n",
       "      <td>16</td>\n",
       "      <td>NO</td>\n",
       "      <td>Good</td>\n",
       "    </tr>\n",
       "  </tbody>\n",
       "</table>\n",
       "<p>600 rows × 7 columns</p>\n",
       "</div>"
      ],
      "text/plain": [
       "     Taxable.Income Undergrad Marital.Status  City.Population  \\\n",
       "0             68833        NO         Single            50047   \n",
       "1             33700       YES       Divorced           134075   \n",
       "2             36925        NO        Married           160205   \n",
       "3             50190       YES         Single           193264   \n",
       "4             81002        NO        Married            27533   \n",
       "..              ...       ...            ...              ...   \n",
       "595           76340       YES       Divorced            39492   \n",
       "596           69967       YES       Divorced            55369   \n",
       "597           47334        NO       Divorced           154058   \n",
       "598           98592       YES        Married           180083   \n",
       "599           96519        NO       Divorced           158137   \n",
       "\n",
       "     Work.Experience Urban income  \n",
       "0                 10   YES   Good  \n",
       "1                 18   YES   Good  \n",
       "2                 30   YES   Good  \n",
       "3                 15   YES   Good  \n",
       "4                 28    NO   Good  \n",
       "..               ...   ...    ...  \n",
       "595                7   YES   Good  \n",
       "596                2   YES   Good  \n",
       "597                0   YES   Good  \n",
       "598               17    NO   Good  \n",
       "599               16    NO   Good  \n",
       "\n",
       "[600 rows x 7 columns]"
      ]
     },
     "execution_count": 8,
     "metadata": {},
     "output_type": "execute_result"
    }
   ],
   "source": [
    "fraud_check1"
   ]
  },
  {
   "cell_type": "code",
   "execution_count": 9,
   "id": "fb31134e",
   "metadata": {
    "ExecuteTime": {
     "end_time": "2022-10-02T12:50:01.051821Z",
     "start_time": "2022-10-02T12:50:00.930423Z"
    }
   },
   "outputs": [],
   "source": [
    "fraud_check=fraud_check1"
   ]
  },
  {
   "cell_type": "code",
   "execution_count": 10,
   "id": "335b2e31",
   "metadata": {
    "ExecuteTime": {
     "end_time": "2022-10-02T12:50:01.160731Z",
     "start_time": "2022-10-02T12:50:01.058834Z"
    }
   },
   "outputs": [
    {
     "data": {
      "text/html": [
       "<div>\n",
       "<style scoped>\n",
       "    .dataframe tbody tr th:only-of-type {\n",
       "        vertical-align: middle;\n",
       "    }\n",
       "\n",
       "    .dataframe tbody tr th {\n",
       "        vertical-align: top;\n",
       "    }\n",
       "\n",
       "    .dataframe thead th {\n",
       "        text-align: right;\n",
       "    }\n",
       "</style>\n",
       "<table border=\"1\" class=\"dataframe\">\n",
       "  <thead>\n",
       "    <tr style=\"text-align: right;\">\n",
       "      <th></th>\n",
       "      <th>Taxable.Income</th>\n",
       "      <th>Undergrad</th>\n",
       "      <th>Marital.Status</th>\n",
       "      <th>City.Population</th>\n",
       "      <th>Work.Experience</th>\n",
       "      <th>Urban</th>\n",
       "      <th>income</th>\n",
       "    </tr>\n",
       "  </thead>\n",
       "  <tbody>\n",
       "    <tr>\n",
       "      <th>0</th>\n",
       "      <td>68833</td>\n",
       "      <td>NO</td>\n",
       "      <td>Single</td>\n",
       "      <td>50047</td>\n",
       "      <td>10</td>\n",
       "      <td>YES</td>\n",
       "      <td>Good</td>\n",
       "    </tr>\n",
       "    <tr>\n",
       "      <th>1</th>\n",
       "      <td>33700</td>\n",
       "      <td>YES</td>\n",
       "      <td>Divorced</td>\n",
       "      <td>134075</td>\n",
       "      <td>18</td>\n",
       "      <td>YES</td>\n",
       "      <td>Good</td>\n",
       "    </tr>\n",
       "    <tr>\n",
       "      <th>2</th>\n",
       "      <td>36925</td>\n",
       "      <td>NO</td>\n",
       "      <td>Married</td>\n",
       "      <td>160205</td>\n",
       "      <td>30</td>\n",
       "      <td>YES</td>\n",
       "      <td>Good</td>\n",
       "    </tr>\n",
       "    <tr>\n",
       "      <th>3</th>\n",
       "      <td>50190</td>\n",
       "      <td>YES</td>\n",
       "      <td>Single</td>\n",
       "      <td>193264</td>\n",
       "      <td>15</td>\n",
       "      <td>YES</td>\n",
       "      <td>Good</td>\n",
       "    </tr>\n",
       "    <tr>\n",
       "      <th>4</th>\n",
       "      <td>81002</td>\n",
       "      <td>NO</td>\n",
       "      <td>Married</td>\n",
       "      <td>27533</td>\n",
       "      <td>28</td>\n",
       "      <td>NO</td>\n",
       "      <td>Good</td>\n",
       "    </tr>\n",
       "    <tr>\n",
       "      <th>...</th>\n",
       "      <td>...</td>\n",
       "      <td>...</td>\n",
       "      <td>...</td>\n",
       "      <td>...</td>\n",
       "      <td>...</td>\n",
       "      <td>...</td>\n",
       "      <td>...</td>\n",
       "    </tr>\n",
       "    <tr>\n",
       "      <th>595</th>\n",
       "      <td>76340</td>\n",
       "      <td>YES</td>\n",
       "      <td>Divorced</td>\n",
       "      <td>39492</td>\n",
       "      <td>7</td>\n",
       "      <td>YES</td>\n",
       "      <td>Good</td>\n",
       "    </tr>\n",
       "    <tr>\n",
       "      <th>596</th>\n",
       "      <td>69967</td>\n",
       "      <td>YES</td>\n",
       "      <td>Divorced</td>\n",
       "      <td>55369</td>\n",
       "      <td>2</td>\n",
       "      <td>YES</td>\n",
       "      <td>Good</td>\n",
       "    </tr>\n",
       "    <tr>\n",
       "      <th>597</th>\n",
       "      <td>47334</td>\n",
       "      <td>NO</td>\n",
       "      <td>Divorced</td>\n",
       "      <td>154058</td>\n",
       "      <td>0</td>\n",
       "      <td>YES</td>\n",
       "      <td>Good</td>\n",
       "    </tr>\n",
       "    <tr>\n",
       "      <th>598</th>\n",
       "      <td>98592</td>\n",
       "      <td>YES</td>\n",
       "      <td>Married</td>\n",
       "      <td>180083</td>\n",
       "      <td>17</td>\n",
       "      <td>NO</td>\n",
       "      <td>Good</td>\n",
       "    </tr>\n",
       "    <tr>\n",
       "      <th>599</th>\n",
       "      <td>96519</td>\n",
       "      <td>NO</td>\n",
       "      <td>Divorced</td>\n",
       "      <td>158137</td>\n",
       "      <td>16</td>\n",
       "      <td>NO</td>\n",
       "      <td>Good</td>\n",
       "    </tr>\n",
       "  </tbody>\n",
       "</table>\n",
       "<p>600 rows × 7 columns</p>\n",
       "</div>"
      ],
      "text/plain": [
       "     Taxable.Income Undergrad Marital.Status  City.Population  \\\n",
       "0             68833        NO         Single            50047   \n",
       "1             33700       YES       Divorced           134075   \n",
       "2             36925        NO        Married           160205   \n",
       "3             50190       YES         Single           193264   \n",
       "4             81002        NO        Married            27533   \n",
       "..              ...       ...            ...              ...   \n",
       "595           76340       YES       Divorced            39492   \n",
       "596           69967       YES       Divorced            55369   \n",
       "597           47334        NO       Divorced           154058   \n",
       "598           98592       YES        Married           180083   \n",
       "599           96519        NO       Divorced           158137   \n",
       "\n",
       "     Work.Experience Urban income  \n",
       "0                 10   YES   Good  \n",
       "1                 18   YES   Good  \n",
       "2                 30   YES   Good  \n",
       "3                 15   YES   Good  \n",
       "4                 28    NO   Good  \n",
       "..               ...   ...    ...  \n",
       "595                7   YES   Good  \n",
       "596                2   YES   Good  \n",
       "597                0   YES   Good  \n",
       "598               17    NO   Good  \n",
       "599               16    NO   Good  \n",
       "\n",
       "[600 rows x 7 columns]"
      ]
     },
     "execution_count": 10,
     "metadata": {},
     "output_type": "execute_result"
    }
   ],
   "source": [
    "fraud_check"
   ]
  },
  {
   "cell_type": "code",
   "execution_count": 11,
   "id": "492745fa",
   "metadata": {
    "ExecuteTime": {
     "end_time": "2022-10-02T12:50:01.456410Z",
     "start_time": "2022-10-02T12:50:01.164727Z"
    }
   },
   "outputs": [],
   "source": [
    "#use labelencoder function  in categorical column  to cover string data into numerical data\n",
    "\n",
    "label_encoder=preprocessing.LabelEncoder()\n",
    "fraud_check['Undergrad']=label_encoder.fit_transform(fraud_check['Undergrad'])\n",
    "fraud_check['Marital.Status']=label_encoder.fit_transform(fraud_check['Marital.Status'])\n",
    "fraud_check['Urban']=label_encoder.fit_transform(fraud_check['Urban'])\n",
    "fraud_check['income']=label_encoder.fit_transform(fraud_check['income'])"
   ]
  },
  {
   "cell_type": "code",
   "execution_count": 12,
   "id": "3332a386",
   "metadata": {
    "ExecuteTime": {
     "end_time": "2022-10-02T12:50:01.643664Z",
     "start_time": "2022-10-02T12:50:01.459368Z"
    }
   },
   "outputs": [
    {
     "data": {
      "text/html": [
       "<div>\n",
       "<style scoped>\n",
       "    .dataframe tbody tr th:only-of-type {\n",
       "        vertical-align: middle;\n",
       "    }\n",
       "\n",
       "    .dataframe tbody tr th {\n",
       "        vertical-align: top;\n",
       "    }\n",
       "\n",
       "    .dataframe thead th {\n",
       "        text-align: right;\n",
       "    }\n",
       "</style>\n",
       "<table border=\"1\" class=\"dataframe\">\n",
       "  <thead>\n",
       "    <tr style=\"text-align: right;\">\n",
       "      <th></th>\n",
       "      <th>Taxable.Income</th>\n",
       "      <th>Undergrad</th>\n",
       "      <th>Marital.Status</th>\n",
       "      <th>City.Population</th>\n",
       "      <th>Work.Experience</th>\n",
       "      <th>Urban</th>\n",
       "      <th>income</th>\n",
       "    </tr>\n",
       "  </thead>\n",
       "  <tbody>\n",
       "    <tr>\n",
       "      <th>0</th>\n",
       "      <td>68833</td>\n",
       "      <td>0</td>\n",
       "      <td>2</td>\n",
       "      <td>50047</td>\n",
       "      <td>10</td>\n",
       "      <td>1</td>\n",
       "      <td>0</td>\n",
       "    </tr>\n",
       "    <tr>\n",
       "      <th>1</th>\n",
       "      <td>33700</td>\n",
       "      <td>1</td>\n",
       "      <td>0</td>\n",
       "      <td>134075</td>\n",
       "      <td>18</td>\n",
       "      <td>1</td>\n",
       "      <td>0</td>\n",
       "    </tr>\n",
       "    <tr>\n",
       "      <th>2</th>\n",
       "      <td>36925</td>\n",
       "      <td>0</td>\n",
       "      <td>1</td>\n",
       "      <td>160205</td>\n",
       "      <td>30</td>\n",
       "      <td>1</td>\n",
       "      <td>0</td>\n",
       "    </tr>\n",
       "    <tr>\n",
       "      <th>3</th>\n",
       "      <td>50190</td>\n",
       "      <td>1</td>\n",
       "      <td>2</td>\n",
       "      <td>193264</td>\n",
       "      <td>15</td>\n",
       "      <td>1</td>\n",
       "      <td>0</td>\n",
       "    </tr>\n",
       "    <tr>\n",
       "      <th>4</th>\n",
       "      <td>81002</td>\n",
       "      <td>0</td>\n",
       "      <td>1</td>\n",
       "      <td>27533</td>\n",
       "      <td>28</td>\n",
       "      <td>0</td>\n",
       "      <td>0</td>\n",
       "    </tr>\n",
       "    <tr>\n",
       "      <th>...</th>\n",
       "      <td>...</td>\n",
       "      <td>...</td>\n",
       "      <td>...</td>\n",
       "      <td>...</td>\n",
       "      <td>...</td>\n",
       "      <td>...</td>\n",
       "      <td>...</td>\n",
       "    </tr>\n",
       "    <tr>\n",
       "      <th>595</th>\n",
       "      <td>76340</td>\n",
       "      <td>1</td>\n",
       "      <td>0</td>\n",
       "      <td>39492</td>\n",
       "      <td>7</td>\n",
       "      <td>1</td>\n",
       "      <td>0</td>\n",
       "    </tr>\n",
       "    <tr>\n",
       "      <th>596</th>\n",
       "      <td>69967</td>\n",
       "      <td>1</td>\n",
       "      <td>0</td>\n",
       "      <td>55369</td>\n",
       "      <td>2</td>\n",
       "      <td>1</td>\n",
       "      <td>0</td>\n",
       "    </tr>\n",
       "    <tr>\n",
       "      <th>597</th>\n",
       "      <td>47334</td>\n",
       "      <td>0</td>\n",
       "      <td>0</td>\n",
       "      <td>154058</td>\n",
       "      <td>0</td>\n",
       "      <td>1</td>\n",
       "      <td>0</td>\n",
       "    </tr>\n",
       "    <tr>\n",
       "      <th>598</th>\n",
       "      <td>98592</td>\n",
       "      <td>1</td>\n",
       "      <td>1</td>\n",
       "      <td>180083</td>\n",
       "      <td>17</td>\n",
       "      <td>0</td>\n",
       "      <td>0</td>\n",
       "    </tr>\n",
       "    <tr>\n",
       "      <th>599</th>\n",
       "      <td>96519</td>\n",
       "      <td>0</td>\n",
       "      <td>0</td>\n",
       "      <td>158137</td>\n",
       "      <td>16</td>\n",
       "      <td>0</td>\n",
       "      <td>0</td>\n",
       "    </tr>\n",
       "  </tbody>\n",
       "</table>\n",
       "<p>600 rows × 7 columns</p>\n",
       "</div>"
      ],
      "text/plain": [
       "     Taxable.Income  Undergrad  Marital.Status  City.Population  \\\n",
       "0             68833          0               2            50047   \n",
       "1             33700          1               0           134075   \n",
       "2             36925          0               1           160205   \n",
       "3             50190          1               2           193264   \n",
       "4             81002          0               1            27533   \n",
       "..              ...        ...             ...              ...   \n",
       "595           76340          1               0            39492   \n",
       "596           69967          1               0            55369   \n",
       "597           47334          0               0           154058   \n",
       "598           98592          1               1           180083   \n",
       "599           96519          0               0           158137   \n",
       "\n",
       "     Work.Experience  Urban  income  \n",
       "0                 10      1       0  \n",
       "1                 18      1       0  \n",
       "2                 30      1       0  \n",
       "3                 15      1       0  \n",
       "4                 28      0       0  \n",
       "..               ...    ...     ...  \n",
       "595                7      1       0  \n",
       "596                2      1       0  \n",
       "597                0      1       0  \n",
       "598               17      0       0  \n",
       "599               16      0       0  \n",
       "\n",
       "[600 rows x 7 columns]"
      ]
     },
     "execution_count": 12,
     "metadata": {},
     "output_type": "execute_result"
    }
   ],
   "source": [
    "fraud_check"
   ]
  },
  {
   "cell_type": "code",
   "execution_count": 13,
   "id": "d4f6951f",
   "metadata": {
    "ExecuteTime": {
     "end_time": "2022-10-02T12:50:01.924392Z",
     "start_time": "2022-10-02T12:50:01.645661Z"
    }
   },
   "outputs": [
    {
     "name": "stdout",
     "output_type": "stream",
     "text": [
      "<class 'pandas.core.frame.DataFrame'>\n",
      "RangeIndex: 600 entries, 0 to 599\n",
      "Data columns (total 7 columns):\n",
      " #   Column           Non-Null Count  Dtype\n",
      "---  ------           --------------  -----\n",
      " 0   Taxable.Income   600 non-null    int64\n",
      " 1   Undergrad        600 non-null    int32\n",
      " 2   Marital.Status   600 non-null    int32\n",
      " 3   City.Population  600 non-null    int64\n",
      " 4   Work.Experience  600 non-null    int64\n",
      " 5   Urban            600 non-null    int32\n",
      " 6   income           600 non-null    int32\n",
      "dtypes: int32(4), int64(3)\n",
      "memory usage: 23.6 KB\n"
     ]
    }
   ],
   "source": [
    "fraud_check.info()"
   ]
  },
  {
   "cell_type": "code",
   "execution_count": 14,
   "id": "65d022e8",
   "metadata": {
    "ExecuteTime": {
     "end_time": "2022-10-02T12:50:02.095241Z",
     "start_time": "2022-10-02T12:50:01.930387Z"
    }
   },
   "outputs": [
    {
     "data": {
      "text/plain": [
       "array([0, 1])"
      ]
     },
     "execution_count": 14,
     "metadata": {},
     "output_type": "execute_result"
    }
   ],
   "source": [
    "fraud_check['income'].unique()"
   ]
  },
  {
   "cell_type": "code",
   "execution_count": 15,
   "id": "83499eaa",
   "metadata": {
    "ExecuteTime": {
     "end_time": "2022-10-02T12:50:02.234689Z",
     "start_time": "2022-10-02T12:50:02.104209Z"
    }
   },
   "outputs": [
    {
     "data": {
      "text/plain": [
       "0    476\n",
       "1    124\n",
       "Name: income, dtype: int64"
      ]
     },
     "execution_count": 15,
     "metadata": {},
     "output_type": "execute_result"
    }
   ],
   "source": [
    "fraud_check.income.value_counts()"
   ]
  },
  {
   "cell_type": "code",
   "execution_count": 16,
   "id": "a726875b",
   "metadata": {
    "ExecuteTime": {
     "end_time": "2022-10-02T12:50:02.349164Z",
     "start_time": "2022-10-02T12:50:02.238684Z"
    }
   },
   "outputs": [],
   "source": [
    "#Divie Data into to part ,one is target and another is independent variable\n",
    "x=fraud_check.iloc[:,1:6]\n",
    "y=fraud_check.iloc[:,6]"
   ]
  },
  {
   "cell_type": "code",
   "execution_count": 17,
   "id": "49e003e8",
   "metadata": {
    "ExecuteTime": {
     "end_time": "2022-10-02T12:50:02.489040Z",
     "start_time": "2022-10-02T12:50:02.352156Z"
    }
   },
   "outputs": [],
   "source": [
    "# Splitting data into training and testing data set\n",
    "\n",
    "x_train,x_test,y_train,y_test=train_test_split(x,y,test_size=0.2,random_state=42)"
   ]
  },
  {
   "cell_type": "markdown",
   "id": "ccb0170f",
   "metadata": {},
   "source": [
    "# Build a Decision Tree model\n",
    "\n",
    "\n",
    "Building desion tree classifier using Entropy criteria\n",
    "\n"
   ]
  },
  {
   "cell_type": "code",
   "execution_count": 18,
   "id": "b136cbd6",
   "metadata": {
    "ExecuteTime": {
     "end_time": "2022-10-02T12:50:02.615026Z",
     "start_time": "2022-10-02T12:50:02.497969Z"
    }
   },
   "outputs": [
    {
     "data": {
      "text/plain": [
       "DecisionTreeClassifier(criterion='entropy', max_depth=3)"
      ]
     },
     "execution_count": 18,
     "metadata": {},
     "output_type": "execute_result"
    }
   ],
   "source": [
    "#create a model\n",
    "model=DecisionTreeClassifier(criterion='entropy',max_depth=3)\n",
    "model.fit(x_train,y_train)"
   ]
  },
  {
   "cell_type": "code",
   "execution_count": 19,
   "id": "620c9037",
   "metadata": {
    "ExecuteTime": {
     "end_time": "2022-10-02T12:50:06.067286Z",
     "start_time": "2022-10-02T12:50:02.618003Z"
    }
   },
   "outputs": [
    {
     "data": {
      "image/png": "[encoded data removed]",
      "text/plain": [
       "<Figure size 432x288 with 1 Axes>"
      ]
     },
     "metadata": {
      "needs_background": "light"
     },
     "output_type": "display_data"
    }
   ],
   "source": [
    "#visulize tree\n",
    "tree.plot_tree(model);"
   ]
  },
  {
   "cell_type": "code",
   "execution_count": 20,
   "id": "b0eff3de",
   "metadata": {
    "ExecuteTime": {
     "end_time": "2022-10-02T12:50:07.171248Z",
     "start_time": "2022-10-02T12:50:06.067286Z"
    }
   },
   "outputs": [
    {
     "data": {
      "image/png": "[encoded data removed]",
      "text/plain": [
       "<Figure size 1200x1200 with 1 Axes>"
      ]
     },
     "metadata": {
      "needs_background": "light"
     },
     "output_type": "display_data"
    }
   ],
   "source": [
    "fn=['Undergrad','Marital.Status','City.Population','Work.Experience','Urban']\n",
    "cn=['Good','Risky']\n",
    "fig,axis=plt.subplots(nrows=1,ncols=1,figsize=(4,4),dpi=300)\n",
    "tree.plot_tree(model,feature_names=fn,class_names=cn,filled=True);\n"
   ]
  },
  {
   "cell_type": "code",
   "execution_count": 21,
   "id": "11aab499",
   "metadata": {
    "ExecuteTime": {
     "end_time": "2022-10-02T12:50:07.190636Z",
     "start_time": "2022-10-02T12:50:07.175478Z"
    }
   },
   "outputs": [
    {
     "name": "stdout",
     "output_type": "stream",
     "text": [
      "|--- feature_2 <= 60294.50\n",
      "|   |--- feature_3 <= 6.50\n",
      "|   |   |--- class: 0\n",
      "|   |--- feature_3 >  6.50\n",
      "|   |   |--- feature_0 <= 0.50\n",
      "|   |   |   |--- class: 0\n",
      "|   |   |--- feature_0 >  0.50\n",
      "|   |   |   |--- class: 0\n",
      "|--- feature_2 >  60294.50\n",
      "|   |--- feature_2 <= 64532.50\n",
      "|   |   |--- feature_3 <= 23.50\n",
      "|   |   |   |--- class: 1\n",
      "|   |   |--- feature_3 >  23.50\n",
      "|   |   |   |--- class: 0\n",
      "|   |--- feature_2 >  64532.50\n",
      "|   |   |--- feature_2 <= 198073.50\n",
      "|   |   |   |--- class: 0\n",
      "|   |   |--- feature_2 >  198073.50\n",
      "|   |   |   |--- class: 0\n",
      "\n"
     ]
    }
   ],
   "source": [
    "text = tree.export_text(model,max_depth=3)  \n",
    "print(text) "
   ]
  },
  {
   "cell_type": "code",
   "execution_count": 22,
   "id": "719fc18c",
   "metadata": {
    "ExecuteTime": {
     "end_time": "2022-10-02T12:50:07.566182Z",
     "start_time": "2022-10-02T12:50:07.196631Z"
    }
   },
   "outputs": [
    {
     "data": {
      "text/plain": [
       "array([0.22387639, 0.        , 0.38089844, 0.39522517, 0.        ])"
      ]
     },
     "execution_count": 22,
     "metadata": {},
     "output_type": "execute_result"
    }
   ],
   "source": [
    "model.feature_importances_"
   ]
  },
  {
   "cell_type": "code",
   "execution_count": 23,
   "id": "dc18a13a",
   "metadata": {
    "ExecuteTime": {
     "end_time": "2022-10-02T12:50:07.659238Z",
     "start_time": "2022-10-02T12:50:07.575170Z"
    }
   },
   "outputs": [
    {
     "data": {
      "text/plain": [
       "Work.Experience    0.395225\n",
       "City.Population    0.380898\n",
       "Undergrad          0.223876\n",
       "Marital.Status     0.000000\n",
       "Urban              0.000000\n",
       "dtype: float64"
      ]
     },
     "execution_count": 23,
     "metadata": {},
     "output_type": "execute_result"
    }
   ],
   "source": [
    "import pandas as pd\n",
    "feature_imp=pd.Series(model.feature_importances_,index=fn).sort_values(ascending=False)\n",
    "feature_imp"
   ]
  },
  {
   "cell_type": "code",
   "execution_count": 24,
   "id": "f14139aa",
   "metadata": {
    "ExecuteTime": {
     "end_time": "2022-10-02T12:50:08.159758Z",
     "start_time": "2022-10-02T12:50:07.663212Z"
    }
   },
   "outputs": [
    {
     "data": {
      "image/png": "[encoded data removed]",
      "text/plain": [
       "<Figure size 432x288 with 1 Axes>"
      ]
     },
     "metadata": {
      "needs_background": "light"
     },
     "output_type": "display_data"
    }
   ],
   "source": [
    "import matplotlib.pyplot as plt\n",
    "import seaborn as sns\n",
    "%matplotlib inline\n",
    "# Creating a bar plot\n",
    "sns.barplot(x=feature_imp, y=feature_imp.index)\n",
    "plt.xlabel('Feature Importance Score')\n",
    "plt.ylabel('Features')\n",
    "plt.title(\"Visualizing Important Features\")\n",
    "plt.show()"
   ]
  },
  {
   "cell_type": "code",
   "execution_count": 25,
   "id": "a7365053",
   "metadata": {
    "ExecuteTime": {
     "end_time": "2022-10-02T12:50:08.191835Z",
     "start_time": "2022-10-02T12:50:08.162848Z"
    }
   },
   "outputs": [
    {
     "data": {
      "text/plain": [
       "0    118\n",
       "1      2\n",
       "dtype: int64"
      ]
     },
     "execution_count": 25,
     "metadata": {},
     "output_type": "execute_result"
    }
   ],
   "source": [
    "#find prediction to use test\n",
    "preds=model.predict(x_test)\n",
    "pd.Series(preds).value_counts()"
   ]
  },
  {
   "cell_type": "code",
   "execution_count": 26,
   "id": "64642829",
   "metadata": {
    "ExecuteTime": {
     "end_time": "2022-10-02T12:50:08.286955Z",
     "start_time": "2022-10-02T12:50:08.197851Z"
    }
   },
   "outputs": [
    {
     "data": {
      "text/plain": [
       "array([0, 0, 0, 0, 0, 0, 0, 0, 0, 0, 0, 0, 0, 0, 0, 0, 0, 0, 0, 0, 0, 0,\n",
       "       0, 0, 0, 0, 0, 0, 0, 0, 0, 0, 0, 0, 0, 0, 0, 0, 0, 0, 1, 0, 0, 0,\n",
       "       0, 0, 0, 0, 0, 0, 0, 0, 0, 0, 0, 0, 0, 0, 0, 0, 0, 0, 0, 0, 0, 0,\n",
       "       0, 0, 0, 0, 0, 0, 0, 0, 0, 0, 0, 0, 0, 0, 0, 0, 0, 1, 0, 0, 0, 0,\n",
       "       0, 0, 0, 0, 0, 0, 0, 0, 0, 0, 0, 0, 0, 0, 0, 0, 0, 0, 0, 0, 0, 0,\n",
       "       0, 0, 0, 0, 0, 0, 0, 0, 0, 0])"
      ]
     },
     "execution_count": 26,
     "metadata": {},
     "output_type": "execute_result"
    }
   ],
   "source": [
    "preds"
   ]
  },
  {
   "cell_type": "code",
   "execution_count": 27,
   "id": "644b5751",
   "metadata": {
    "ExecuteTime": {
     "end_time": "2022-10-02T12:50:08.566652Z",
     "start_time": "2022-10-02T12:50:08.290953Z"
    }
   },
   "outputs": [
    {
     "data": {
      "text/html": [
       "<div>\n",
       "<style scoped>\n",
       "    .dataframe tbody tr th:only-of-type {\n",
       "        vertical-align: middle;\n",
       "    }\n",
       "\n",
       "    .dataframe tbody tr th {\n",
       "        vertical-align: top;\n",
       "    }\n",
       "\n",
       "    .dataframe thead th {\n",
       "        text-align: right;\n",
       "    }\n",
       "</style>\n",
       "<table border=\"1\" class=\"dataframe\">\n",
       "  <thead>\n",
       "    <tr style=\"text-align: right;\">\n",
       "      <th>col_0</th>\n",
       "      <th>0</th>\n",
       "      <th>1</th>\n",
       "    </tr>\n",
       "    <tr>\n",
       "      <th>income</th>\n",
       "      <th></th>\n",
       "      <th></th>\n",
       "    </tr>\n",
       "  </thead>\n",
       "  <tbody>\n",
       "    <tr>\n",
       "      <th>0</th>\n",
       "      <td>92</td>\n",
       "      <td>2</td>\n",
       "    </tr>\n",
       "    <tr>\n",
       "      <th>1</th>\n",
       "      <td>26</td>\n",
       "      <td>0</td>\n",
       "    </tr>\n",
       "  </tbody>\n",
       "</table>\n",
       "</div>"
      ],
      "text/plain": [
       "col_0    0  1\n",
       "income       \n",
       "0       92  2\n",
       "1       26  0"
      ]
     },
     "execution_count": 27,
     "metadata": {},
     "output_type": "execute_result"
    }
   ],
   "source": [
    "#create a cross tab\n",
    "pd.crosstab(y_test,preds)"
   ]
  },
  {
   "cell_type": "code",
   "execution_count": 28,
   "id": "997679aa",
   "metadata": {
    "ExecuteTime": {
     "end_time": "2022-10-02T12:50:08.593700Z",
     "start_time": "2022-10-02T12:50:08.579606Z"
    }
   },
   "outputs": [
    {
     "data": {
      "text/plain": [
       "0.7666666666666667"
      ]
     },
     "execution_count": 28,
     "metadata": {},
     "output_type": "execute_result"
    }
   ],
   "source": [
    "# calculate Acuracy\n",
    "np.mean(preds==y_test)"
   ]
  },
  {
   "cell_type": "markdown",
   "id": "4e6c6c17",
   "metadata": {},
   "source": [
    "# Building desion tree classifier(cart) using gini\n"
   ]
  },
  {
   "cell_type": "code",
   "execution_count": 29,
   "id": "a263e404",
   "metadata": {
    "ExecuteTime": {
     "end_time": "2022-10-02T12:50:08.687157Z",
     "start_time": "2022-10-02T12:50:08.593700Z"
    }
   },
   "outputs": [
    {
     "data": {
      "text/plain": [
       "DecisionTreeClassifier(max_depth=3)"
      ]
     },
     "execution_count": 29,
     "metadata": {},
     "output_type": "execute_result"
    }
   ],
   "source": [
    "#create a model\n",
    "model_gini=DecisionTreeClassifier(criterion='gini',max_depth=3)\n",
    "model_gini.fit(x_train,y_train)"
   ]
  },
  {
   "cell_type": "code",
   "execution_count": 30,
   "id": "2b38d750",
   "metadata": {
    "ExecuteTime": {
     "end_time": "2022-10-02T12:50:08.813741Z",
     "start_time": "2022-10-02T12:50:08.690161Z"
    }
   },
   "outputs": [
    {
     "data": {
      "text/plain": [
       "array([0, 0, 0, 0, 0, 0, 0, 0, 0, 0, 0, 0, 0, 0, 0, 0, 0, 0, 0, 0, 0, 0,\n",
       "       0, 0, 0, 0, 0, 0, 0, 0, 0, 0, 0, 0, 0, 0, 0, 0, 0, 0, 1, 0, 0, 0,\n",
       "       0, 0, 0, 0, 0, 0, 0, 0, 0, 0, 0, 0, 0, 0, 0, 0, 0, 0, 0, 0, 0, 0,\n",
       "       0, 0, 0, 0, 0, 0, 0, 0, 0, 0, 0, 0, 0, 0, 0, 0, 0, 1, 0, 0, 0, 0,\n",
       "       0, 0, 0, 0, 0, 0, 0, 0, 0, 0, 1, 0, 0, 0, 0, 0, 0, 0, 0, 0, 0, 0,\n",
       "       0, 0, 0, 0, 0, 0, 0, 0, 0, 0])"
      ]
     },
     "execution_count": 30,
     "metadata": {},
     "output_type": "execute_result"
    }
   ],
   "source": [
    "preds=model_gini.predict(x_test)\n",
    "preds"
   ]
  },
  {
   "cell_type": "code",
   "execution_count": 31,
   "id": "a8474ecb",
   "metadata": {
    "ExecuteTime": {
     "end_time": "2022-10-02T12:50:08.987940Z",
     "start_time": "2022-10-02T12:50:08.816717Z"
    }
   },
   "outputs": [
    {
     "data": {
      "text/plain": [
       "0.7583333333333333"
      ]
     },
     "execution_count": 31,
     "metadata": {},
     "output_type": "execute_result"
    }
   ],
   "source": [
    "#calculate Accracy\n",
    "np.mean(preds==y_test)"
   ]
  },
  {
   "cell_type": "code",
   "execution_count": 32,
   "id": "0a79348e",
   "metadata": {
    "ExecuteTime": {
     "end_time": "2022-10-02T12:50:09.128843Z",
     "start_time": "2022-10-02T12:50:08.990876Z"
    }
   },
   "outputs": [
    {
     "data": {
      "text/plain": [
       "array([0.13543762, 0.08975191, 0.59895665, 0.17585383, 0.        ])"
      ]
     },
     "execution_count": 32,
     "metadata": {},
     "output_type": "execute_result"
    }
   ],
   "source": [
    "model_gini.feature_importances_"
   ]
  },
  {
   "cell_type": "markdown",
   "id": "2978e21f",
   "metadata": {},
   "source": [
    "# Create Regression model"
   ]
  },
  {
   "cell_type": "code",
   "execution_count": 33,
   "id": "2b0cccd0",
   "metadata": {
    "ExecuteTime": {
     "end_time": "2022-10-02T12:50:09.221317Z",
     "start_time": "2022-10-02T12:50:09.138840Z"
    }
   },
   "outputs": [],
   "source": [
    "from sklearn.tree import DecisionTreeRegressor"
   ]
  },
  {
   "cell_type": "code",
   "execution_count": 34,
   "id": "9e65154d",
   "metadata": {
    "ExecuteTime": {
     "end_time": "2022-10-02T12:50:09.361501Z",
     "start_time": "2022-10-02T12:50:09.225321Z"
    }
   },
   "outputs": [
    {
     "data": {
      "text/html": [
       "<div>\n",
       "<style scoped>\n",
       "    .dataframe tbody tr th:only-of-type {\n",
       "        vertical-align: middle;\n",
       "    }\n",
       "\n",
       "    .dataframe tbody tr th {\n",
       "        vertical-align: top;\n",
       "    }\n",
       "\n",
       "    .dataframe thead th {\n",
       "        text-align: right;\n",
       "    }\n",
       "</style>\n",
       "<table border=\"1\" class=\"dataframe\">\n",
       "  <thead>\n",
       "    <tr style=\"text-align: right;\">\n",
       "      <th></th>\n",
       "      <th>Undergrad</th>\n",
       "      <th>Marital.Status</th>\n",
       "      <th>City.Population</th>\n",
       "      <th>Work.Experience</th>\n",
       "      <th>Urban</th>\n",
       "    </tr>\n",
       "  </thead>\n",
       "  <tbody>\n",
       "    <tr>\n",
       "      <th>0</th>\n",
       "      <td>0</td>\n",
       "      <td>2</td>\n",
       "      <td>50047</td>\n",
       "      <td>10</td>\n",
       "      <td>1</td>\n",
       "    </tr>\n",
       "    <tr>\n",
       "      <th>1</th>\n",
       "      <td>1</td>\n",
       "      <td>0</td>\n",
       "      <td>134075</td>\n",
       "      <td>18</td>\n",
       "      <td>1</td>\n",
       "    </tr>\n",
       "    <tr>\n",
       "      <th>2</th>\n",
       "      <td>0</td>\n",
       "      <td>1</td>\n",
       "      <td>160205</td>\n",
       "      <td>30</td>\n",
       "      <td>1</td>\n",
       "    </tr>\n",
       "    <tr>\n",
       "      <th>3</th>\n",
       "      <td>1</td>\n",
       "      <td>2</td>\n",
       "      <td>193264</td>\n",
       "      <td>15</td>\n",
       "      <td>1</td>\n",
       "    </tr>\n",
       "    <tr>\n",
       "      <th>4</th>\n",
       "      <td>0</td>\n",
       "      <td>1</td>\n",
       "      <td>27533</td>\n",
       "      <td>28</td>\n",
       "      <td>0</td>\n",
       "    </tr>\n",
       "    <tr>\n",
       "      <th>...</th>\n",
       "      <td>...</td>\n",
       "      <td>...</td>\n",
       "      <td>...</td>\n",
       "      <td>...</td>\n",
       "      <td>...</td>\n",
       "    </tr>\n",
       "    <tr>\n",
       "      <th>595</th>\n",
       "      <td>1</td>\n",
       "      <td>0</td>\n",
       "      <td>39492</td>\n",
       "      <td>7</td>\n",
       "      <td>1</td>\n",
       "    </tr>\n",
       "    <tr>\n",
       "      <th>596</th>\n",
       "      <td>1</td>\n",
       "      <td>0</td>\n",
       "      <td>55369</td>\n",
       "      <td>2</td>\n",
       "      <td>1</td>\n",
       "    </tr>\n",
       "    <tr>\n",
       "      <th>597</th>\n",
       "      <td>0</td>\n",
       "      <td>0</td>\n",
       "      <td>154058</td>\n",
       "      <td>0</td>\n",
       "      <td>1</td>\n",
       "    </tr>\n",
       "    <tr>\n",
       "      <th>598</th>\n",
       "      <td>1</td>\n",
       "      <td>1</td>\n",
       "      <td>180083</td>\n",
       "      <td>17</td>\n",
       "      <td>0</td>\n",
       "    </tr>\n",
       "    <tr>\n",
       "      <th>599</th>\n",
       "      <td>0</td>\n",
       "      <td>0</td>\n",
       "      <td>158137</td>\n",
       "      <td>16</td>\n",
       "      <td>0</td>\n",
       "    </tr>\n",
       "  </tbody>\n",
       "</table>\n",
       "<p>600 rows × 5 columns</p>\n",
       "</div>"
      ],
      "text/plain": [
       "     Undergrad  Marital.Status  City.Population  Work.Experience  Urban\n",
       "0            0               2            50047               10      1\n",
       "1            1               0           134075               18      1\n",
       "2            0               1           160205               30      1\n",
       "3            1               2           193264               15      1\n",
       "4            0               1            27533               28      0\n",
       "..         ...             ...              ...              ...    ...\n",
       "595          1               0            39492                7      1\n",
       "596          1               0            55369                2      1\n",
       "597          0               0           154058                0      1\n",
       "598          1               1           180083               17      0\n",
       "599          0               0           158137               16      0\n",
       "\n",
       "[600 rows x 5 columns]"
      ]
     },
     "execution_count": 34,
     "metadata": {},
     "output_type": "execute_result"
    }
   ],
   "source": [
    "fraud_check1=fraud_check.iloc[:,1:6]\n",
    "fraud_check1"
   ]
  },
  {
   "cell_type": "code",
   "execution_count": 35,
   "id": "bd040bcb",
   "metadata": {
    "ExecuteTime": {
     "end_time": "2022-10-02T12:50:09.485089Z",
     "start_time": "2022-10-02T12:50:09.364499Z"
    }
   },
   "outputs": [
    {
     "name": "stdout",
     "output_type": "stream",
     "text": [
      "<class 'pandas.core.frame.DataFrame'>\n",
      "RangeIndex: 600 entries, 0 to 599\n",
      "Data columns (total 5 columns):\n",
      " #   Column           Non-Null Count  Dtype\n",
      "---  ------           --------------  -----\n",
      " 0   Undergrad        600 non-null    int32\n",
      " 1   Marital.Status   600 non-null    int32\n",
      " 2   City.Population  600 non-null    int64\n",
      " 3   Work.Experience  600 non-null    int64\n",
      " 4   Urban            600 non-null    int32\n",
      "dtypes: int32(3), int64(2)\n",
      "memory usage: 16.5 KB\n"
     ]
    }
   ],
   "source": [
    "fraud_check1.info()"
   ]
  },
  {
   "cell_type": "code",
   "execution_count": 36,
   "id": "94a5c0d7",
   "metadata": {
    "ExecuteTime": {
     "end_time": "2022-10-02T12:50:09.612855Z",
     "start_time": "2022-10-02T12:50:09.488111Z"
    }
   },
   "outputs": [],
   "source": [
    "array=fraud_check1.values\n",
    "X=array[:,0:4]\n",
    "Y=array[:,4]"
   ]
  },
  {
   "cell_type": "code",
   "execution_count": 37,
   "id": "bc141399",
   "metadata": {
    "ExecuteTime": {
     "end_time": "2022-10-02T12:50:09.706258Z",
     "start_time": "2022-10-02T12:50:09.621851Z"
    }
   },
   "outputs": [],
   "source": [
    "X_train, X_test, Y_train, Y_test = train_test_split(X, Y, test_size=0.33, random_state=42) "
   ]
  },
  {
   "cell_type": "code",
   "execution_count": 38,
   "id": "967633aa",
   "metadata": {
    "ExecuteTime": {
     "end_time": "2022-10-02T12:50:09.958473Z",
     "start_time": "2022-10-02T12:50:09.715263Z"
    }
   },
   "outputs": [
    {
     "data": {
      "text/plain": [
       "DecisionTreeRegressor(max_depth=3)"
      ]
     },
     "execution_count": 38,
     "metadata": {},
     "output_type": "execute_result"
    }
   ],
   "source": [
    "model1 = DecisionTreeRegressor(max_depth = 3)\n",
    "model1.fit(X_train, Y_train)   "
   ]
  },
  {
   "cell_type": "code",
   "execution_count": 39,
   "id": "9587671a",
   "metadata": {
    "ExecuteTime": {
     "end_time": "2022-10-02T12:50:10.068587Z",
     "start_time": "2022-10-02T12:50:09.963470Z"
    }
   },
   "outputs": [
    {
     "data": {
      "text/plain": [
       "-0.04564650494329703"
      ]
     },
     "execution_count": 39,
     "metadata": {},
     "output_type": "execute_result"
    }
   ],
   "source": [
    "#comute test score\n",
    "model1.score(X_test,Y_test)"
   ]
  },
  {
   "cell_type": "code",
   "execution_count": 40,
   "id": "e0e8015b",
   "metadata": {
    "ExecuteTime": {
     "end_time": "2022-10-02T12:50:10.213025Z",
     "start_time": "2022-10-02T12:50:10.072553Z"
    }
   },
   "outputs": [
    {
     "data": {
      "text/plain": [
       "0.06233243527762522"
      ]
     },
     "execution_count": 40,
     "metadata": {},
     "output_type": "execute_result"
    }
   ],
   "source": [
    "#compute Train score\n",
    "model1.score(X_train,Y_train)"
   ]
  },
  {
   "cell_type": "code",
   "execution_count": null,
   "id": "76f7684c",
   "metadata": {},
   "outputs": [],
   "source": []
  }
 ],
 "metadata": {
  "kernelspec": {
   "display_name": "Python 3 (ipykernel)",
   "language": "python",
   "name": "python3"
  },
  "language_info": {
   "codemirror_mode": {
    "name": "ipython",
    "version": 3
   },
   "file_extension": ".py",
   "mimetype": "text/x-python",
   "name": "python",
   "nbconvert_exporter": "python",
   "pygments_lexer": "ipython3",
   "version": "3.9.12"
  }
 },
 "nbformat": 4,
 "nbformat_minor": 5
}
